{
 "cells": [
  {
   "cell_type": "markdown",
   "id": "8865a3f9-7cf5-40b0-83b4-1fd5aa20594e",
   "metadata": {
    "editable": true,
    "slideshow": {
     "slide_type": ""
    },
    "tags": []
   },
   "source": [
    "# Backtest Optimization with NVIDIA RAPIDS\n",
    "### This notebook showcases <b>[RAPIDS](https://developer.nvidia.com/rapids)</b> providing over \n",
    "### * <b>+700%</b> performance boost\n",
    "### * <b>~40K</b> backtests on moving average buy/sell indicators\n",
    "### * <b>All</b> stocks in the <b>S&P500</b>.\n",
    "\n",
    "---"
   ]
  },
  {
   "attachments": {},
   "cell_type": "markdown",
   "id": "b784093b-8718-41d2-88d6-ec87df3c4a1a",
   "metadata": {},
   "source": [
    "# Data - Kaggle Stocks  \n",
    "For simplicity, we userecent [stock market data from Kaggle](https://www.kaggle.com/datasets/andrewmvd/sp-500-stocks).  \n",
    "This data set is updated regularly.  This assumes you have a Kaggle account and have create a key."
   ]
  },
  {
   "cell_type": "code",
   "execution_count": 2,
   "id": "f5e94584-d319-4ede-9103-5989cd74d973",
   "metadata": {},
   "outputs": [
    {
     "name": "stdout",
     "output_type": "stream",
     "text": [
      "Dataset URL: https://www.kaggle.com/datasets/andrewmvd/sp-500-stocks\n",
      "License(s): CC0-1.0\n",
      "Downloading sp-500-stocks.zip to /Users/will/git/NV-stocks-video\n",
      " 96%|████████████████████████████████████▍ | 42.0M/43.7M [00:01<00:00, 38.6MB/s]\n",
      "100%|██████████████████████████████████████| 43.7M/43.7M [00:01<00:00, 40.2MB/s]\n",
      "Archive:  sp-500-stocks.zip\n",
      "  inflating: sp500_companies.csv     \n",
      "  inflating: sp500_index.csv         \n",
      "  inflating: sp500_stocks.csv        \n"
     ]
    }
   ],
   "source": [
    "# import os\n",
    "# os.environ['KAGGLE_USERNAME'] = \"xxxxxxxx\"\n",
    "# os.environ['KAGGLE_KEY'] = \"xxxxxxxxxxxxxxxxxxxxxxxxxxxxxxxx\"\n",
    "!rm -rf sp-500-stocks.zip sp500_*.csv\n",
    "!kaggle datasets download -d andrewmvd/sp-500-stocks\n",
    "!unzip sp-500-stocks.zip"
   ]
  },
  {
   "cell_type": "markdown",
   "id": "d1c815bb-3685-4a22-97c3-694320cb96b4",
   "metadata": {},
   "source": [
    "  "
   ]
  },
  {
   "cell_type": "markdown",
   "id": "c7ad105d-1a0a-4004-a871-4f9926cf1aad",
   "metadata": {},
   "source": [
    "  "
   ]
  },
  {
   "cell_type": "markdown",
   "id": "67f1edb1-7c3c-4cb9-b60a-c9b8a7615526",
   "metadata": {},
   "source": [
    "  "
   ]
  },
  {
   "cell_type": "markdown",
   "id": "5392ddbc-3857-4bc5-b4bb-c35a52770831",
   "metadata": {},
   "source": [
    "  "
   ]
  },
  {
   "cell_type": "markdown",
   "id": "e911094c-3423-425b-8d93-17420f42116c",
   "metadata": {},
   "source": [
    "  "
   ]
  },
  {
   "cell_type": "markdown",
   "id": "28fd54bc-ca31-4bec-af4d-0bbc6188764e",
   "metadata": {},
   "source": [
    "  "
   ]
  },
  {
   "cell_type": "markdown",
   "id": "89045bf5-f93f-40ae-bd62-5543c3a0372d",
   "metadata": {},
   "source": [
    "  "
   ]
  },
  {
   "cell_type": "markdown",
   "id": "9ccec80e-88e4-4b80-b95e-b9b7a37b533e",
   "metadata": {},
   "source": [
    "  "
   ]
  },
  {
   "cell_type": "markdown",
   "id": "b5fafb19-3241-4ee2-bf68-e05869ae01b7",
   "metadata": {},
   "source": [
    "  "
   ]
  },
  {
   "cell_type": "markdown",
   "id": "8328fb86-87c8-4146-a4db-7ba5cd5dd119",
   "metadata": {},
   "source": [
    "  "
   ]
  },
  {
   "cell_type": "markdown",
   "id": "6bd062b3-1aed-47bc-b1f6-ef799903889d",
   "metadata": {},
   "source": [
    "  "
   ]
  },
  {
   "cell_type": "markdown",
   "id": "d03fbaec-02bd-4f74-aea2-26fb3a95ccf4",
   "metadata": {},
   "source": [
    "  "
   ]
  },
  {
   "cell_type": "markdown",
   "id": "2ae14d3e-f200-4eb8-8e43-36c08fd14274",
   "metadata": {},
   "source": [
    "  "
   ]
  },
  {
   "cell_type": "markdown",
   "id": "f97fafb9-509e-4fff-9ae5-b858c8b68ae6",
   "metadata": {},
   "source": [
    "  "
   ]
  },
  {
   "cell_type": "markdown",
   "id": "f658faca-a960-406d-b09e-bff5d02135e0",
   "metadata": {},
   "source": [
    "  "
   ]
  },
  {
   "cell_type": "markdown",
   "id": "07c8466c-3ed6-43b3-9773-e80f60c0df77",
   "metadata": {},
   "source": [
    "  "
   ]
  },
  {
   "cell_type": "code",
   "execution_count": 3,
   "id": "f6a3f1e5-83d9-4a4f-b893-92867fc01753",
   "metadata": {},
   "outputs": [
    {
     "data": {
      "text/html": [
       "<div>\n",
       "<style scoped>\n",
       "    .dataframe tbody tr th:only-of-type {\n",
       "        vertical-align: middle;\n",
       "    }\n",
       "\n",
       "    .dataframe tbody tr th {\n",
       "        vertical-align: top;\n",
       "    }\n",
       "\n",
       "    .dataframe thead th {\n",
       "        text-align: right;\n",
       "    }\n",
       "</style>\n",
       "<table border=\"1\" class=\"dataframe\">\n",
       "  <thead>\n",
       "    <tr style=\"text-align: right;\">\n",
       "      <th></th>\n",
       "      <th>date</th>\n",
       "      <th>adj close</th>\n",
       "      <th>close</th>\n",
       "      <th>high</th>\n",
       "      <th>low</th>\n",
       "      <th>open</th>\n",
       "      <th>volume</th>\n",
       "    </tr>\n",
       "  </thead>\n",
       "  <tbody>\n",
       "    <tr>\n",
       "      <th>429</th>\n",
       "      <td>2024-05-29</td>\n",
       "      <td>170.394699</td>\n",
       "      <td>170.800003</td>\n",
       "      <td>173.429993</td>\n",
       "      <td>169.410004</td>\n",
       "      <td>169.479996</td>\n",
       "      <td>3071200.0</td>\n",
       "    </tr>\n",
       "    <tr>\n",
       "      <th>219</th>\n",
       "      <td>2023-07-28</td>\n",
       "      <td>188.033035</td>\n",
       "      <td>189.899994</td>\n",
       "      <td>191.279999</td>\n",
       "      <td>187.860001</td>\n",
       "      <td>190.500000</td>\n",
       "      <td>1899800.0</td>\n",
       "    </tr>\n",
       "    <tr>\n",
       "      <th>108</th>\n",
       "      <td>2023-02-16</td>\n",
       "      <td>171.473831</td>\n",
       "      <td>173.929993</td>\n",
       "      <td>176.479996</td>\n",
       "      <td>172.500000</td>\n",
       "      <td>173.630005</td>\n",
       "      <td>1951100.0</td>\n",
       "    </tr>\n",
       "  </tbody>\n",
       "</table>\n",
       "</div>"
      ],
      "text/plain": [
       "           date   adj close       close        high         low        open  \\\n",
       "429  2024-05-29  170.394699  170.800003  173.429993  169.410004  169.479996   \n",
       "219  2023-07-28  188.033035  189.899994  191.279999  187.860001  190.500000   \n",
       "108  2023-02-16  171.473831  173.929993  176.479996  172.500000  173.630005   \n",
       "\n",
       "        volume  \n",
       "429  3071200.0  \n",
       "219  1899800.0  \n",
       "108  1951100.0  "
      ]
     },
     "metadata": {},
     "output_type": "display_data"
    },
    {
     "data": {
      "text/html": [
       "<iframe\n",
       "    scrolling=\"no\"\n",
       "    width=\"100%\"\n",
       "    height=\"1220\"\n",
       "    src=\"iframe_figures/figure_3.html\"\n",
       "    frameborder=\"0\"\n",
       "    allowfullscreen\n",
       "></iframe>\n"
      ]
     },
     "metadata": {},
     "output_type": "display_data"
    }
   ],
   "source": [
    "from plotly import graph_objects as go\n",
    "import pandas as pd\n",
    "import numpy as np\n",
    "import plotly.io as pio\n",
    "pio.renderers.default = 'iframe'\n",
    "\n",
    "win_sz = 50\n",
    "\n",
    "sp500 = pd.read_csv(\"sp500_stocks.csv\")#.set_index(\"Date\", drop=True)\n",
    "sp500 = sp500.drop(\"Symbol\", axis=1)\n",
    "sp500.columns = [col.lower() for col in sp500.columns] \n",
    "sp500 = sp500.tail(252*2).copy()\n",
    "sp500 = sp500.groupby('date').mean().reset_index(drop=False)\n",
    "display(sp500.sample(3))\n",
    "\n",
    "sp500[\"ma\"] = sp500[\"close\"].rolling(window=win_sz, min_periods=0).mean().reset_index(0,drop=True)\n",
    "\n",
    "sp500[\"signal\"] =  ( (sp500[\"close\"] < sp500[\"ma\"]).astype(int)* -1 + (sp500[\"close\"] > sp500[\"ma\"]).astype(int)  ) \n",
    "sp500[\"signal\"]  = (sp500[\"signal\"] != sp500[\"signal\"].shift(1)).astype(int) * sp500[\"signal\"]\n",
    "sp500.loc[0, \"signal\"] = 0\n",
    "\n",
    "last_buy_price = sp500.loc[sp500[\"signal\"] == -1].copy()[\"close\"].rename(\"last_buy_price\")\n",
    "sp500 = sp500.merge(last_buy_price, left_index=True, right_index=True, how=\"left\").fillna(0)\n",
    "sp500[\"last_buy_price\"] = sp500[\"last_buy_price\"].replace(0.0, np.nan).ffill().fillna(0)\n",
    "\n",
    "sell_mask = (sp500[\"signal\"] == 1) & (sp500[\"last_buy_price\"] > 0)\n",
    "sp500.loc[sell_mask, \"profit_pct_plus_1\"] = 1 + ( (sp500[\"close\"] - sp500[\"last_buy_price\"]) / sp500[\"last_buy_price\"] )\n",
    "sp500[\"profit_pct_plus_1\"] = sp500[\"profit_pct_plus_1\"].fillna(1.0)\n",
    "\n",
    "sp500[\"pct_cumprod\"] = sp500[\"profit_pct_plus_1\"].cumprod()\n",
    "sp500[\"pct_cummax\"] = sp500[\"pct_cumprod\"].cummax()\n",
    "\n",
    "sp500[\"drawdown\"] = sp500[\"pct_cumprod\"] - sp500[\"pct_cummax\"]\n",
    "sp500[\"max_drawdown\"] = sp500[\"drawdown\"].cummin()\n",
    "\n",
    "roi = sp500.iloc[-1][\"pct_cumprod\"] - 1\n",
    "roi = roi.round(4) * 100\n",
    "\n",
    "stock_plot = go.Ohlc(x=sp500['date'], open=sp500['open'], high=sp500['high'], low=sp500['low'], close=sp500['close'], name=\"SP500 Mean\", increasing_line_color= 'cyan', decreasing_line_color= 'gray')\n",
    "\n",
    "fig = go.Figure(data=[stock_plot])\n",
    "\n",
    "# MA\n",
    "fig.add_trace(go.Scatter(x=sp500[\"date\"], y=sp500[\"ma\"], name=f\"MA {win_sz}\", opacity=0.7, line=dict(width=2, color=\"black\")))\n",
    "\n",
    "marker_size=10\n",
    "marker_border=1\n",
    "\n",
    "# BUY\n",
    "buy_mask = sp500[\"signal\"] == -1\n",
    "purchases = sp500.loc[buy_mask].copy().reset_index(drop=True)\n",
    "fig.add_trace(go.Scatter(\n",
    "    x=purchases[\"date\"], y=purchases[\"close\"], mode=\"markers\", name=\"buy\", \n",
    "    marker=dict(symbol=\"star-triangle-up\", size=marker_size, color='blue', line=dict(width=marker_border, color=\"DarkSlateGrey\"))))\n",
    "\n",
    "# SELL\n",
    "sales = sp500.loc[sp500[\"signal\"] == 1].copy().reset_index(drop=True)\n",
    "fig.add_trace(go.Scatter(\n",
    "    x=sales[\"date\"], y=sales[\"close\"], mode=\"markers\", name=\"sell\",\n",
    "    marker=dict(symbol=\"star-triangle-down\", size=marker_size,  color='green', line=dict(width=marker_border, color=\"DarkSlateGrey\"))))\n",
    "\n",
    "# MDD\n",
    "mdd = sp500[\"max_drawdown\"].min()\n",
    "mdd = mdd.round(4) * -100\n",
    "\n",
    "mdd_x = sp500.iloc[sp500[\"max_drawdown\"].idxmin()][\"date\"]\n",
    "mdd_y = sp500.iloc[sp500[\"max_drawdown\"].idxmin()][\"close\"]\n",
    "fig.add_annotation(x=mdd_x, y=mdd_y, text=f\"Max Drawdown {mdd}%\", font=dict(color=\"black\",size=20), arrowcolor=\"red\", arrowsize=3, arrowwidth=1, arrowhead=1, showarrow=True, xref=\"x\", yref=\"y\", ax=70, ay=240)\n",
    "\n",
    "\n",
    "fig.update_layout(legend=dict(x=0.01, y=0.97, font=dict( family=\"Courier\", size=16, color=\"black\" ), bgcolor=\"LightSteelBlue\", bordercolor=\"Black\", borderwidth=1))\n",
    "\n",
    "fig.update_layout(height=1200, plot_bgcolor='white')\n",
    "fig.update_xaxes(mirror=True, ticks='outside', showline=True, linecolor='black', gridcolor='lightgrey')\n",
    "fig.update_yaxes(mirror=True, ticks='outside', showline=True, linecolor='black', gridcolor='lightgrey')\n",
    "fig.update_layout(title={'text': \"S&P 500\", 'y':0.9, 'x':0.5, 'xanchor': 'center', 'yanchor': 'top',\n",
    "                         'font': {'color':\"black\", 'size': 33}, 'subtitle': { 'text': f\"ROI {roi}%\", 'font': {'color':\"gray\", 'size': 19}}})\n",
    "fig.show()"
   ]
  },
  {
   "attachments": {},
   "cell_type": "markdown",
   "id": "eb124e03-c757-4cff-ade2-db3372be3537",
   "metadata": {},
   "source": [
    "---\n",
    "\n",
    "# Trading Performance Metrics\n",
    "\n",
    "#### 1. Max Drawdown (MDD)\n",
    "Max Drawdown (MDD) should be as minimal as possible.  \n",
    "MDD is a common metric for hedge funds and other trading shops to measure a trader's performance.   \n",
    "MDD measures the percentage difference from the historical peak to the forward minimum.   \n",
    "The plots below should elucidate the concept.  \n",
    "\n",
    "#### 2. Return on Investment Percent (ROI)\n",
    " We are searching for a trading strategy that maximizes ROI with minimal and reasonable risk. \n",
    "\n",
    "### Optimized Moving Average \n",
    "#### <i>buy</i> when price below moving average\n",
    "#### <i>sell</i> when price is above moving average\n",
    "We look the optimize the size of the sliding window that captures the markets appetite of the S&P500 equities. This is how we profit from temporary spikes and lulls before the stock regresses to the theoretical mean.\n",
    "\n",
    "### Trading Strategy Parameters (2)\n",
    "#### 1. Window Size \n",
    "The number of previous prices to use for the moving average\n",
    "#### 2. Performance Period\n",
    "The amount of time we will use to backtest the trade execution of the strategy.\n",
    "  \n",
    "For each strategy we have an overall period (performance period) for which we trade. A typical year in the US include 252 trading days after weekends and holidays.  We will also use a single day as a single \"tick\" or \"candle\" for trading strategies that involve buying or selling based on a trading signal."
   ]
  },
  {
   "cell_type": "code",
   "execution_count": null,
   "id": "d650d54f-e706-427d-bed2-3ac84a355a48",
   "metadata": {},
   "outputs": [],
   "source": [
    "import itertools as it \n",
    "import pandas as pd\n",
    "\n",
    "perf_periods = [int(252/4), int(252/2), 252, int(252*1.5)]\n",
    "window_sizes = list(range(5,101,5))\n",
    "\n",
    "perf_period_window_size_combos =  [{\"perf_period\":tpl[0], \"window_size\":tpl[1]} for tpl in it.product(perf_periods,window_sizes) if tpl[0] > tpl[1]]\n",
    "\n",
    "print(len(perf_periods), \"performance periods\")\n",
    "print(len(window_sizes), \"windows sizes\")\n",
    "\n",
    "df_orig = pd.read_csv(\"sp500_stocks.csv\", parse_dates=[\"Date\"])\n",
    "print(len(df_orig[\"Symbol\"].unique()), \"stock tickers\")\n",
    "print(len(perf_period_window_size_combos) * len(df_orig[\"Symbol\"].unique()), \"total backtests\")"
   ]
  },
  {
   "attachments": {},
   "cell_type": "markdown",
   "id": "2f7c9e3c-a4ec-42a6-a956-4e335e999e95",
   "metadata": {},
   "source": [
    "---\n",
    "\n",
    "# RAPIDS \n",
    "##### Time is Money,  Accelerate Your Backtesting.\n",
    "We need high performace computing to test as many strategies as possible across as many equities as possible.  To that end, we will use RAPIDS to ensure we are constantly testing our strategies.\n",
    "Follow the RAPIDS Installation guide to install the correction version for your system:  \n",
    "https://docs.rapids.ai/install#selector\n",
    "\n",
    "![RAPIDS_selector](./RAPIDS_selector.png)"
   ]
  },
  {
   "attachments": {},
   "cell_type": "markdown",
   "id": "e1593665-e0af-46a2-be2f-e98141072ff2",
   "metadata": {},
   "source": [
    "---\n",
    "\n",
    "# Vectorized Backtesting\n",
    "\n",
    "##### Various trading performance performance periods (perf_periods) and window sizes for backtesting.\n",
    "\n",
    "* The following functiion loads the S&P500 stock data history\n",
    "* Calculates the Simple Moving Average (SMA)\n",
    "* Generates a Buy/Sell Flag based on the Simple Moving Average (SMA)\n",
    "* Executes the trading history based on the SMA trade flag\n",
    "* Calculates Cumulative Drawdown\n",
    "* Calculates the Max Drawdown\n",
    "* Calcuates the Cumulative ROI"
   ]
  },
  {
   "cell_type": "code",
   "execution_count": null,
   "id": "51c7c562-e1fc-43cb-a2dd-45fd7cb44b13",
   "metadata": {
    "editable": true,
    "slideshow": {
     "slide_type": ""
    },
    "tags": []
   },
   "outputs": [],
   "source": [
    "def vectorized_sma_backtests(perf_period, win_sz, ticker=None):\n",
    "\n",
    "    # (1) LOAD & TRANSFORM DATA\n",
    "    df_orig = pd.read_csv(\"sp500_stocks.csv\", parse_dates=[\"Date\"])\n",
    "\n",
    "    if ticker is not None:\n",
    "        df_orig = df_orig[df_orig[\"Symbol\"] == ticker]\n",
    "    df_orig = df_orig.dropna()\n",
    "    df_orig = df_orig[[\"Date\", \"Symbol\", \"Open\", \"Low\", \"High\", \"Close\"]]\n",
    "    df_orig.columns = list(map(str.lower,df_orig.columns))\n",
    "    df_orig = df_orig.sort_values([\"symbol\", \"date\"])\n",
    "    df_orig = df_orig.reset_index(drop=True)\n",
    "            \n",
    "    stock_dates = df_orig[\"date\"].unique()\n",
    "    stock_dates = stock_dates[stock_dates.argsort()][-perf_period:]\n",
    "\n",
    "    df = df_orig.copy()\n",
    "    df = df[df[\"date\"] >= stock_dates.min()].reset_index(drop=True)    \n",
    "\n",
    "    # (2) CALCULATE MOVING AVERAGE w/ WINDOW SIZE\n",
    "    df[\"ma\"] = df.groupby(\"symbol\")[\"close\"].rolling(window=win_sz, min_periods=0).mean().reset_index(0,drop=True)\n",
    "\n",
    "    # (3) GENERATE BUY & SELL SIGNALS\n",
    "    df[\"signal\"] =  ( (df[\"close\"] < df[\"ma\"]).astype(int)* -1 + (df[\"close\"] > df[\"ma\"]).astype(int)  ) \n",
    "    df[\"signal\"]  = (df[\"signal\"] != df[\"signal\"].shift(1)).astype(int) * df[\"signal\"]\n",
    "    df.loc[0, \"signal\"] = 0\n",
    "    \n",
    "    last_buy_price = df.loc[df[\"signal\"] == -1].copy()[\"close\"].rename(\"last_buy_price\")\n",
    "    df = df.merge(last_buy_price, left_index=True, right_index=True, how=\"left\").fillna(0)\n",
    "    df[\"last_buy_price\"] = df[\"last_buy_price\"].replace(0.0, np.nan).ffill().fillna(0)\n",
    "    \n",
    "    sell_mask = (df[\"signal\"] == 1) & (df[\"last_buy_price\"] > 0)\n",
    "\n",
    "    # (4) EXECUTE TRADES\n",
    "    df.loc[sell_mask, \"profit_pct_plus_1\"] = 1 + ( (df[\"close\"] - df[\"last_buy_price\"]) / df[\"last_buy_price\"] )\n",
    "    df[\"profit_pct_plus_1\"] = df[\"profit_pct_plus_1\"].fillna(1.0)\n",
    "\n",
    "    # (6) DETERMINE P&L\n",
    "    df[\"pct_cumprod\"] = df.groupby(\"symbol\")[\"profit_pct_plus_1\"].cumprod()\n",
    "    df[\"pct_cummax\"] = df.groupby(\"symbol\")[\"pct_cumprod\"].cummax()\n",
    "    \n",
    "    df[\"drawdown\"] = df[\"pct_cumprod\"] - df[\"pct_cummax\"]\n",
    "    df[\"max_drawdown\"] = df.groupby(\"symbol\")[\"drawdown\"].cummin()\n",
    "\n",
    "    # (7) CALCULATE ROI & MDD\n",
    "    roi =  df.groupby(\"symbol\")[\"pct_cumprod\"].last() - 1.0\n",
    "    mdd = df.groupby(\"symbol\")[\"max_drawdown\"].min()\n",
    "\n",
    "    result = dict(perf_period=perf_period, win_sz=win_sz, roi_min=roi.min(), roi_mean=roi.mean(), roi_max=roi.max(), mdd_min=mdd.min(), mdd_mean=mdd.mean())\n",
    "    return result, df"
   ]
  },
  {
   "cell_type": "markdown",
   "id": "470ff0b8-d1d4-4c37-b60f-625bc5fd8750",
   "metadata": {},
   "source": [
    "  "
   ]
  },
  {
   "cell_type": "markdown",
   "id": "c2eb648e-a02c-40ee-a9be-b56a53ce41b0",
   "metadata": {},
   "source": [
    "  "
   ]
  },
  {
   "cell_type": "markdown",
   "id": "8b2e0ee4-9974-428c-ab51-d755266adc45",
   "metadata": {},
   "source": [
    "  "
   ]
  },
  {
   "attachments": {},
   "cell_type": "markdown",
   "id": "82d7efee-332e-4013-a60b-bf9b58ba46be",
   "metadata": {},
   "source": [
    "---\n",
    "\n",
    "# The Entire Standard & Poors 500 - <i><u>NO RAPIDS</u></i> --> <span style=\"color:red\"><b> multiple minutes </b></span> to run backtests :(\n",
    "\n",
    "##### Backtest various Moving Averages for All Stocks in the S&P500\n",
    "##### +40K backtests "
   ]
  },
  {
   "cell_type": "code",
   "execution_count": null,
   "id": "da544876-8b94-470b-9522-101bc623e20a",
   "metadata": {},
   "outputs": [],
   "source": [
    "!nproc"
   ]
  },
  {
   "cell_type": "code",
   "execution_count": null,
   "id": "745aab48-0022-4e29-8c9c-8e8e55d7a260",
   "metadata": {},
   "outputs": [],
   "source": [
    "!free -h"
   ]
  },
  {
   "cell_type": "code",
   "execution_count": null,
   "id": "8acf47cb-6632-46de-bc0f-b1adc569ce36",
   "metadata": {},
   "outputs": [],
   "source": [
    "from tqdm import tqdm\n",
    "import pandas as pd\n",
    "import numpy as np\n",
    "\n",
    "results_list = []\n",
    "progress = tqdm(perf_period_window_size_combos)\n",
    "for perf_period_window_size_combo in progress:    \n",
    "    perf_period = perf_period_window_size_combo[\"perf_period\"]\n",
    "    win_sz = perf_period_window_size_combo[\"window_size\"]\n",
    "    progress.set_description(f\"pp: {perf_period} win_sz: {win_sz} \")\n",
    "    \n",
    "    result, _ = vectorized_sma_backtests(perf_period=perf_period, win_sz=win_sz)\n",
    "    results_list.append(result)"
   ]
  },
  {
   "cell_type": "markdown",
   "id": "63e0e923-ce42-4bfe-96ba-b2680837b34c",
   "metadata": {},
   "source": [
    "  "
   ]
  },
  {
   "cell_type": "markdown",
   "id": "f7ae7f3c-2330-49fd-aa07-2363e1b79016",
   "metadata": {},
   "source": [
    "  "
   ]
  },
  {
   "cell_type": "markdown",
   "id": "6b611ace-dac9-4372-ac5c-fcdf721e24bf",
   "metadata": {},
   "source": [
    "  "
   ]
  },
  {
   "cell_type": "markdown",
   "id": "f3e0c537-a311-46ae-a523-e5dfd307cc49",
   "metadata": {},
   "source": [
    "  "
   ]
  },
  {
   "attachments": {},
   "cell_type": "markdown",
   "id": "31a16d61-8c70-4ce8-b9a7-2094d46fff35",
   "metadata": {},
   "source": [
    "---\n",
    "\n",
    "# The Entire Standard & Poors 500 - <i><u>w/ RAPIDS<u/></i> --> <span style=\"color:green\"> <b> seconds </b></span> to run backtest :)\n",
    "\n",
    "##### Backtest various Moving Averages for All Stocks in the S&P500\n",
    "\n",
    "##### <b>RAPIDS</b> give us over <b>400%</b> boost in backtesting speed performance\n",
    "  \n",
    "  \n",
    "### No Code Changes Except loading cudf.pandas"
   ]
  },
  {
   "cell_type": "code",
   "execution_count": null,
   "id": "2966491b-5324-43e1-bad4-f06a1c5dc0cf",
   "metadata": {},
   "outputs": [],
   "source": [
    "## load cudf.pandas kernel\n",
    "%load_ext cudf.pandas"
   ]
  },
  {
   "cell_type": "code",
   "execution_count": null,
   "id": "e176a818-ef97-4ad7-a052-50fcd3af1464",
   "metadata": {},
   "outputs": [],
   "source": [
    "from tqdm import tqdm\n",
    "import pandas as pd\n",
    "import numpy as np\n",
    "\n",
    "\n",
    "results_list = []\n",
    "progress = tqdm(perf_period_window_size_combos)\n",
    "for perf_period_window_size_combo in progress:    \n",
    "    perf_period = perf_period_window_size_combo[\"perf_period\"]\n",
    "    win_sz = perf_period_window_size_combo[\"window_size\"]\n",
    "    progress.set_description(f\"pp: {perf_period} win_sz: {win_sz} \")\n",
    "    \n",
    "    result, _ = vectorized_sma_backtests(perf_period=perf_period, win_sz=win_sz)\n",
    "    results_list.append(result)"
   ]
  },
  {
   "cell_type": "markdown",
   "id": "96dfad98-98dd-4698-86d3-538984ffdc09",
   "metadata": {},
   "source": [
    "---\n",
    "\n",
    "### Plot Generator Function"
   ]
  },
  {
   "cell_type": "code",
   "execution_count": null,
   "id": "8019bd0e-9e08-45cc-b967-0e75810796d7",
   "metadata": {},
   "outputs": [],
   "source": [
    "def pairwise(iterable):\n",
    "    # pairwise('ABCDEFG') → AB BC CD DE EF FG\n",
    "    iterator = iter(iterable)\n",
    "    a = next(iterator, None)\n",
    "    for b in iterator:\n",
    "        yield a, b\n",
    "        a = b"
   ]
  },
  {
   "cell_type": "code",
   "execution_count": null,
   "id": "190a9ce1-28ef-4ec8-b381-4681537343b6",
   "metadata": {},
   "outputs": [],
   "source": [
    "def generate_mdd_roi_traces(results, perf_period_param):\n",
    "    results_summary = results.query(f\" perf_period == {perf_period_param} \")\n",
    "\n",
    "    x = results_summary[\"win_sz\"]\n",
    "    y = results_summary[\"roi_mean\"]*100\n",
    "    \n",
    "    x_pairs = pairwise(x)\n",
    "    y_pairs = pairwise(y)\n",
    "    roi_colors=['red' if any([i < roi_cutoff for i in y_values]) else '#1f77b4' for y_values in pairwise(y)]\n",
    "        \n",
    "    roi_trace = go.Scatter(x=results_summary[\"win_sz\"], y=results_summary[\"mdd_mean\"]*-100, \n",
    "                             name=\"MDD (redness ~ losses)\", fill='tozeroy', mode='none',\n",
    "                             fillgradient=dict(type=\"vertical\", colorscale=[(0.0, \"white\"),(0.95, \"red\"), (1.0, \"red\")], ))\n",
    "    \n",
    "    mdd_trace = go.Scatter(x=x, y=y,  showlegend=True, name=\"ROI\", mode='lines', opacity=0.7, line={'color': \"black\",  'width':4})\n",
    "    \n",
    "    # piecemeal ROI plot to show red for non-positive ROIs\n",
    "    piecemeal_traces = []\n",
    "    for x, y, color in zip(x_pairs, y_pairs, roi_colors):\n",
    "        piecemeal_traces.append(go.Scatter(x=x, y=y, showlegend=False, mode='lines', opacity=.6, line={'color': color,  'width':0.95}))\n",
    "    \n",
    "    return roi_trace, mdd_trace, piecemeal_traces"
   ]
  },
  {
   "cell_type": "markdown",
   "id": "445f9c9e-4a99-479e-a22b-7fe7740379cd",
   "metadata": {},
   "source": [
    "---\n",
    "\n",
    "# Trading Performance Analysis  \n",
    "### Parameters Sorted by MDD and ROI"
   ]
  },
  {
   "cell_type": "code",
   "execution_count": null,
   "id": "3c87361e-b997-40f5-ab0c-609b0d9913f5",
   "metadata": {},
   "outputs": [],
   "source": [
    "results = pd.DataFrame(results_list)\n",
    "results_summary = results.sort_values([\"mdd_min\", \"roi_mean\"], ascending=True)\n",
    "results_summary.head(5)"
   ]
  },
  {
   "cell_type": "code",
   "execution_count": null,
   "id": "321da9b1-8a26-4ed3-a062-07e0b6e04c15",
   "metadata": {},
   "outputs": [],
   "source": [
    "from plotly.subplots import make_subplots\n",
    "\n",
    "roi_cutoff  = 0.10\n",
    "\n",
    "fig = make_subplots(rows=2, cols=2, shared_xaxes=False, shared_yaxes=True, \n",
    "                    vertical_spacing=0.15, \n",
    "                    subplot_titles=[f\"Perf Period = {pp}\" for pp in results.perf_period.unique()])\n",
    "\n",
    "for plot_idx, perf_period in enumerate(results.perf_period.unique()):    \n",
    "    roi_trace, mdd_trace, piecemeal_traces = generate_mdd_roi_traces(results=results, perf_period_param=perf_period)    \n",
    "    col = plot_idx % 2 + 1\n",
    "    row = int(plot_idx > 1) + 1       \n",
    "    fig.add_trace(roi_trace,  row=row, col=col)\n",
    "    fig.add_trace(mdd_trace,  row=row, col=col)\n",
    "    for piecemeal_trace in piecemeal_traces:\n",
    "        fig.add_trace(piecemeal_trace,  row=row, col=col)\n",
    "    fig.update_xaxes(title_text=\"window size\", row=row, col=col)\n",
    "    fig.update_yaxes(title_text=\"ROI% & MDD%\", row=row, col=col)\n",
    "\n",
    "\n",
    "fig.update_layout(showlegend=False, height=1000)\n",
    "fig.update_layout(plot_bgcolor='white')\n",
    "fig.update_xaxes(mirror=True, ticks='outside', showline=True, linecolor='black', gridcolor='lightgrey')\n",
    "fig.update_yaxes(mirror=True, ticks='outside', showline=True, linecolor='black', gridcolor='lightgrey')\n",
    "\n",
    "fig.show()"
   ]
  },
  {
   "cell_type": "markdown",
   "id": "e502edbb-0a7c-423f-9332-c24811d0dd91",
   "metadata": {},
   "source": [
    "---\n",
    "\n",
    "# Sample Stock using Backtesting Results\n",
    "Top company at time of writing is AAPL (Apple)"
   ]
  },
  {
   "cell_type": "code",
   "execution_count": null,
   "id": "deeda847-ec98-411e-ac87-60de0ffaa683",
   "metadata": {},
   "outputs": [],
   "source": [
    "pd.read_csv(\"sp500_companies.csv\").sort_values(\"Marketcap\", ascending=False).head(1)"
   ]
  },
  {
   "cell_type": "code",
   "execution_count": null,
   "id": "0406acb8-b18a-4f20-a9d6-b14a2d7109a1",
   "metadata": {},
   "outputs": [],
   "source": [
    "df = pd.read_csv(\"sp500_stocks.csv\")\n",
    "aapl = df.query(\"Symbol == 'AAPL' \")\n",
    "del df\n",
    "aapl.tail(3).round(2)"
   ]
  },
  {
   "cell_type": "markdown",
   "id": "96d29b97-bf0f-49bc-922c-83a5f88bbf27",
   "metadata": {},
   "source": [
    "### Backtest AAPL with various Moving Averages"
   ]
  },
  {
   "cell_type": "code",
   "execution_count": null,
   "id": "b49b91fd-c512-4c75-964e-d76b66d79010",
   "metadata": {},
   "outputs": [],
   "source": [
    "from tqdm import tqdm\n",
    "aapl_results_list = []\n",
    "progress = tqdm(perf_period_window_size_combos)\n",
    "\n",
    "for perf_period_window_size_combo in progress:\n",
    "    \n",
    "    perf_period = perf_period_window_size_combo[\"perf_period\"]\n",
    "    win_sz = perf_period_window_size_combo[\"window_size\"]\n",
    "    progress.set_description(f\"pp: {perf_period} win_sz: {win_sz} \")\n",
    "    \n",
    "    result, _ = vectorized_sma_backtests(perf_period=perf_period, win_sz=win_sz, ticker='AAPL')\n",
    "    aapl_results_list.append(result)"
   ]
  },
  {
   "cell_type": "markdown",
   "id": "3e092b8f-963f-4bb1-8c6d-41233db7c758",
   "metadata": {},
   "source": [
    "### Analyze Backtesting Results"
   ]
  },
  {
   "cell_type": "code",
   "execution_count": null,
   "id": "83eb1f86-ba71-4c80-8502-8e3b453db874",
   "metadata": {},
   "outputs": [],
   "source": [
    "aapl_results = pd.DataFrame(aapl_results_list)\n",
    "aapl_results.sort_values([\"mdd_min\", \"roi_max\"], ascending=[False, False]).head(3)"
   ]
  },
  {
   "cell_type": "code",
   "execution_count": null,
   "id": "9fd6f608-7e12-454c-a9b9-d32d902b2c5f",
   "metadata": {},
   "outputs": [],
   "source": [
    "fig = make_subplots(rows=2, cols=2, shared_xaxes=False, shared_yaxes=True, \n",
    "                    vertical_spacing=0.15, subplot_titles=[f\"Perf Period = {pp}\" for pp in aapl_results.perf_period.unique()])\n",
    "\n",
    "for plot_idx, perf_period in enumerate(aapl_results.perf_period.unique()):    \n",
    "    roi_trace, mdd_trace, piecemeal_traces = generate_mdd_roi_traces(results=aapl_results, perf_period_param=perf_period)    \n",
    "    col = plot_idx % 2 + 1\n",
    "    row = int(plot_idx > 1) + 1       \n",
    "    fig.add_trace(roi_trace,  row=row, col=col)\n",
    "    fig.add_trace(mdd_trace,  row=row, col=col)\n",
    "    for piecemeal_trace in piecemeal_traces:\n",
    "        fig.add_trace(piecemeal_trace,  row=row, col=col)\n",
    "    fig.update_xaxes(title_text=\"window size\", row=row, col=col)\n",
    "    fig.update_yaxes(title_text=\"ROI% & MDD%\", row=row, col=col)\n",
    "\n",
    "fig.update_layout(showlegend=False, height=1000)\n",
    "fig.update_layout(plot_bgcolor='white')\n",
    "fig.update_xaxes(mirror=True, ticks='outside', showline=True, linecolor='black', gridcolor='lightgrey')\n",
    "fig.update_yaxes(mirror=True, ticks='outside', showline=True, linecolor='black', gridcolor='lightgrey')\n",
    "\n",
    "fig.show()"
   ]
  },
  {
   "cell_type": "markdown",
   "id": "8c79c5a8-34df-46cf-a629-13c176b2512c",
   "metadata": {},
   "source": [
    "### Trade Execution with Best Parameters"
   ]
  },
  {
   "cell_type": "code",
   "execution_count": null,
   "id": "b7c86faf-f6bf-4ca2-908d-1bf690742183",
   "metadata": {},
   "outputs": [],
   "source": [
    "perf_period_window_size_combo = aapl_results.sort_values([\"mdd_min\", \"roi_max\"], ascending=[False, False]).head(1)[[\"perf_period\", \"win_sz\"]].to_dict(\"records\")[0]\n",
    "print(perf_period_window_size_combo)\n",
    "\n",
    "perf_period=perf_period_window_size_combo[\"perf_period\"]\n",
    "win_sz=perf_period_window_size_combo[\"win_sz\"]\n",
    "\n",
    "marker_size = 10\n",
    "marker_border = 1.0\n",
    "\n",
    "result, df = vectorized_sma_backtests(perf_period=perf_period, win_sz=win_sz, ticker=\"AAPL\")\n",
    "\n",
    "stock_plot = go.Ohlc(x=df['date'], open=df['open'], high=df['high'], low=df['low'], close=df['close'], name=\"AAPL\", increasing_line_color= 'cyan', decreasing_line_color= 'gray')\n",
    "\n",
    "fig = go.Figure(data=[stock_plot])\n",
    "\n",
    "# MA\n",
    "fig.add_trace(go.Scatter(x=df[\"date\"], y=df[\"ma\"], name=f\"MA {win_sz}\", opacity=0.3, line=dict(width=2, color=\"blue\")))\n",
    "\n",
    "# BUY\n",
    "buy_mask = df[\"signal\"] == -1\n",
    "purchases = df.loc[buy_mask].copy().reset_index(drop=True)\n",
    "fig.add_trace(go.Scatter(\n",
    "    x=purchases[\"date\"], y=purchases[\"close\"], mode=\"markers\", name=\"buy\", \n",
    "    marker=dict(symbol=\"star-triangle-up\", size=marker_size, color='blue', line=dict(width=marker_border, color=\"DarkSlateGrey\"))))\n",
    "\n",
    "# SELL\n",
    "sales = df.loc[df[\"signal\"] == 1].copy().reset_index(drop=True)\n",
    "fig.add_trace(go.Scatter(\n",
    "    x=sales[\"date\"], y=sales[\"close\"], mode=\"markers\", name=\"sell\",\n",
    "    marker=dict(symbol=\"star-triangle-down\", size=marker_size,  color='green', line=dict(width=marker_border, color=\"DarkSlateGrey\"))))\n",
    "\n",
    "\n",
    "fig.update_layout(legend=dict(x=0.01, y=0.97, font=dict( family=\"Courier\", size=16, color=\"black\" ), bgcolor=\"LightSteelBlue\", bordercolor=\"Black\", borderwidth=1))\n",
    "\n",
    "fig.update_layout(height=900)\n",
    "fig.update_layout(plot_bgcolor='white')\n",
    "fig.update_xaxes(mirror=True, ticks='outside', showline=True, linecolor='black', gridcolor='lightgrey')\n",
    "fig.update_yaxes(mirror=True, ticks='outside', showline=True, linecolor='black', gridcolor='lightgrey')\n",
    "\n",
    "roi = df.iloc[-1][\"pct_cumprod\"] - 1\n",
    "roi = roi.round(4) * 100\n",
    "\n",
    "fig.update_layout(title={'text': \"AAPL\", 'y':0.85, 'x':0.5, 'xanchor': 'center', 'yanchor': 'top',\n",
    "                         'font': {'color':\"black\", 'size': 33}, 'subtitle': { 'text': f\"ROI {roi}%\", 'font': {'color':\"gray\", 'size': 19}}})\n",
    "fig.show()"
   ]
  },
  {
   "cell_type": "code",
   "execution_count": null,
   "id": "905a2027-e4de-43c9-b63f-36ab9abab2ff",
   "metadata": {},
   "outputs": [],
   "source": []
  }
 ],
 "metadata": {
  "kernelspec": {
   "display_name": "Python 3 (ipykernel)",
   "language": "python",
   "name": "python3"
  },
  "language_info": {
   "codemirror_mode": {
    "name": "ipython",
    "version": 3
   },
   "file_extension": ".py",
   "mimetype": "text/x-python",
   "name": "python",
   "nbconvert_exporter": "python",
   "pygments_lexer": "ipython3",
   "version": "3.9.4"
  }
 },
 "nbformat": 4,
 "nbformat_minor": 5
}
