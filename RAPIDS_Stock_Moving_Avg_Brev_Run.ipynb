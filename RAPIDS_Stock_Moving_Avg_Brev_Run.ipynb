{
 "cells": [
  {
   "cell_type": "markdown",
   "id": "8865a3f9-7cf5-40b0-83b4-1fd5aa20594e",
   "metadata": {
    "editable": true,
    "slideshow": {
     "slide_type": ""
    },
    "tags": []
   },
   "source": [
    "# Backtest Optimization with NVIDIA RAPIDS\n",
    "### This notebook showcases <b>[RAPIDS](https://developer.nvidia.com/rapids)</b> providing over \n",
    "### * <b>+700%</b> performance boost\n",
    "### * <b>~40K</b> backtests on moving average buy/sell indicators\n",
    "### * <b>All</b> stocks in the <b>S&P500</b>.\n",
    "\n",
    "---"
   ]
  },
  {
   "cell_type": "code",
   "execution_count": 2,
   "id": "3c27ddb6-e265-48b7-948c-5194114972bc",
   "metadata": {},
   "outputs": [],
   "source": [
    "# !pip install kaggle plotly"
   ]
  },
  {
   "cell_type": "markdown",
   "id": "7dfef7ac-1d24-437a-9c2a-382e81a28d38",
   "metadata": {},
   "source": [
    "---"
   ]
  },
  {
   "attachments": {},
   "cell_type": "markdown",
   "id": "b784093b-8718-41d2-88d6-ec87df3c4a1a",
   "metadata": {},
   "source": [
    "# Data - Kaggle Stocks  \n",
    "For simplicity, we userecent [stock market data from Kaggle](https://www.kaggle.com/datasets/andrewmvd/sp-500-stocks).  \n",
    "This data set is updated regularly.  This assumes you have a Kaggle account and have create a key."
   ]
  },
  {
   "cell_type": "code",
   "execution_count": 5,
   "id": "f5e94584-d319-4ede-9103-5989cd74d973",
   "metadata": {},
   "outputs": [
    {
     "name": "stdout",
     "output_type": "stream",
     "text": [
      "Dataset URL: https://www.kaggle.com/datasets/andrewmvd/sp-500-stocks\n",
      "License(s): CC0-1.0\n",
      "Downloading sp-500-stocks.zip to /home/rapids\n",
      " 92%|███████████████████████████████████▏  | 41.0M/44.3M [00:00<00:00, 46.7MB/s]\n",
      "100%|██████████████████████████████████████| 44.3M/44.3M [00:00<00:00, 48.6MB/s]\n",
      "Archive:  sp-500-stocks.zip\n",
      "  inflating: sp500_companies.csv     \n",
      "  inflating: sp500_index.csv         \n",
      "  inflating: sp500_stocks.csv        \n"
     ]
    }
   ],
   "source": [
    "# import os\n",
    "# os.environ['KAGGLE_USERNAME'] = \"xxxxxxxx\"\n",
    "# os.environ['KAGGLE_KEY'] = \"xxxxxxxxxxxxxxxxxxxxxxxxxxxxxxxx\"\n",
    "!rm -rf sp-500-stocks.zip sp500_*.csv\n",
    "!kaggle datasets download -d andrewmvd/sp-500-stocks\n",
    "!unzip sp-500-stocks.zip"
   ]
  },
  {
   "cell_type": "markdown",
   "id": "d1c815bb-3685-4a22-97c3-694320cb96b4",
   "metadata": {},
   "source": [
    "  "
   ]
  },
  {
   "cell_type": "markdown",
   "id": "2ae14d3e-f200-4eb8-8e43-36c08fd14274",
   "metadata": {},
   "source": [
    "  "
   ]
  },
  {
   "cell_type": "markdown",
   "id": "f97fafb9-509e-4fff-9ae5-b858c8b68ae6",
   "metadata": {},
   "source": [
    "  "
   ]
  },
  {
   "cell_type": "markdown",
   "id": "f658faca-a960-406d-b09e-bff5d02135e0",
   "metadata": {},
   "source": [
    "  "
   ]
  },
  {
   "cell_type": "markdown",
   "id": "07c8466c-3ed6-43b3-9773-e80f60c0df77",
   "metadata": {},
   "source": [
    "  "
   ]
  },
  {
   "cell_type": "markdown",
   "id": "2965b05c-a1ed-42ee-a016-67f34e789bc8",
   "metadata": {},
   "source": [
    "---\n",
    "# Sample Backtest\n",
    "##### This backtest sample is the mean price of the S&P.  A Moving Average (MA) or Simple Moving Average (SMA) using a Window Size of 50 is used to create buy/sell signals.  When the current price is below the 50 Day MA, a buy is triggered and when the price moves above the 50 Day MA, a sell is triggered.  A negative buy and sell was triggered on May 1 and May 7, respectively.  This caused a Max Drawdown (MDD) in the account."
   ]
  },
  {
   "cell_type": "code",
   "execution_count": 6,
   "id": "f6a3f1e5-83d9-4a4f-b893-92867fc01753",
   "metadata": {},
   "outputs": [
    {
     "data": {
      "text/html": [
       "<div>\n",
       "<style scoped>\n",
       "    .dataframe tbody tr th:only-of-type {\n",
       "        vertical-align: middle;\n",
       "    }\n",
       "\n",
       "    .dataframe tbody tr th {\n",
       "        vertical-align: top;\n",
       "    }\n",
       "\n",
       "    .dataframe thead th {\n",
       "        text-align: right;\n",
       "    }\n",
       "</style>\n",
       "<table border=\"1\" class=\"dataframe\">\n",
       "  <thead>\n",
       "    <tr style=\"text-align: right;\">\n",
       "      <th></th>\n",
       "      <th>date</th>\n",
       "      <th>adj close</th>\n",
       "      <th>close</th>\n",
       "      <th>high</th>\n",
       "      <th>low</th>\n",
       "      <th>open</th>\n",
       "      <th>volume</th>\n",
       "    </tr>\n",
       "  </thead>\n",
       "  <tbody>\n",
       "    <tr>\n",
       "      <th>174</th>\n",
       "      <td>2023-05-23</td>\n",
       "      <td>170.597244</td>\n",
       "      <td>172.669998</td>\n",
       "      <td>177.979996</td>\n",
       "      <td>171.399994</td>\n",
       "      <td>177.880005</td>\n",
       "      <td>2301700.0</td>\n",
       "    </tr>\n",
       "    <tr>\n",
       "      <th>412</th>\n",
       "      <td>2024-05-03</td>\n",
       "      <td>166.673553</td>\n",
       "      <td>167.070007</td>\n",
       "      <td>171.690002</td>\n",
       "      <td>166.949997</td>\n",
       "      <td>170.449997</td>\n",
       "      <td>3007000.0</td>\n",
       "    </tr>\n",
       "    <tr>\n",
       "      <th>445</th>\n",
       "      <td>2024-06-21</td>\n",
       "      <td>170.684006</td>\n",
       "      <td>171.089996</td>\n",
       "      <td>171.789993</td>\n",
       "      <td>169.350006</td>\n",
       "      <td>169.380005</td>\n",
       "      <td>4899700.0</td>\n",
       "    </tr>\n",
       "  </tbody>\n",
       "</table>\n",
       "</div>"
      ],
      "text/plain": [
       "           date   adj close       close        high         low        open  \\\n",
       "174  2023-05-23  170.597244  172.669998  177.979996  171.399994  177.880005   \n",
       "412  2024-05-03  166.673553  167.070007  171.690002  166.949997  170.449997   \n",
       "445  2024-06-21  170.684006  171.089996  171.789993  169.350006  169.380005   \n",
       "\n",
       "        volume  \n",
       "174  2301700.0  \n",
       "412  3007000.0  \n",
       "445  4899700.0  "
      ]
     },
     "metadata": {},
     "output_type": "display_data"
    },
    {
     "data": {
      "text/html": [
       "<iframe\n",
       "    scrolling=\"no\"\n",
       "    width=\"100%\"\n",
       "    height=\"1220\"\n",
       "    src=\"iframe_figures/figure_6.html\"\n",
       "    frameborder=\"0\"\n",
       "    allowfullscreen\n",
       "></iframe>\n"
      ]
     },
     "metadata": {},
     "output_type": "display_data"
    }
   ],
   "source": [
    "from plotly import graph_objects as go\n",
    "import pandas as pd\n",
    "import numpy as np\n",
    "import plotly.io as pio\n",
    "pio.renderers.default = 'iframe'\n",
    "\n",
    "win_sz = 50\n",
    "\n",
    "sp500 = pd.read_csv(\"sp500_stocks.csv\")#.set_index(\"Date\", drop=True)\n",
    "sp500 = sp500.drop(\"Symbol\", axis=1)\n",
    "sp500.columns = [col.lower() for col in sp500.columns] \n",
    "sp500 = sp500.tail(252*2).copy()\n",
    "sp500 = sp500.groupby('date').mean().reset_index(drop=False)\n",
    "display(sp500.sample(3))\n",
    "\n",
    "sp500[\"ma\"] = sp500[\"close\"].rolling(window=win_sz, min_periods=0).mean().reset_index(0,drop=True)\n",
    "\n",
    "sp500[\"signal\"] =  ( (sp500[\"close\"] < sp500[\"ma\"]).astype(int)* -1 + (sp500[\"close\"] > sp500[\"ma\"]).astype(int)  ) \n",
    "sp500[\"signal\"]  = (sp500[\"signal\"] != sp500[\"signal\"].shift(1)).astype(int) * sp500[\"signal\"]\n",
    "sp500.loc[0, \"signal\"] = 0\n",
    "\n",
    "last_buy_price = sp500.loc[sp500[\"signal\"] == -1].copy()[\"close\"].rename(\"last_buy_price\")\n",
    "sp500 = sp500.merge(last_buy_price, left_index=True, right_index=True, how=\"left\").fillna(0)\n",
    "sp500[\"last_buy_price\"] = sp500[\"last_buy_price\"].replace(0.0, np.nan).ffill().fillna(0)\n",
    "\n",
    "sell_mask = (sp500[\"signal\"] == 1) & (sp500[\"last_buy_price\"] > 0)\n",
    "sp500.loc[sell_mask, \"profit_pct_plus_1\"] = 1 + ( (sp500[\"close\"] - sp500[\"last_buy_price\"]) / sp500[\"last_buy_price\"] )\n",
    "sp500[\"profit_pct_plus_1\"] = sp500[\"profit_pct_plus_1\"].fillna(1.0)\n",
    "\n",
    "sp500[\"pct_cumprod\"] = sp500[\"profit_pct_plus_1\"].cumprod()\n",
    "sp500[\"pct_cummax\"] = sp500[\"pct_cumprod\"].cummax()\n",
    "\n",
    "sp500[\"drawdown\"] = sp500[\"pct_cumprod\"] - sp500[\"pct_cummax\"]\n",
    "sp500[\"max_drawdown\"] = sp500[\"drawdown\"].cummin()\n",
    "\n",
    "roi = sp500.iloc[-1][\"pct_cumprod\"] - 1\n",
    "roi = roi.round(4) * 100\n",
    "\n",
    "stock_plot = go.Ohlc(x=sp500['date'], open=sp500['open'], high=sp500['high'], low=sp500['low'], close=sp500['close'], name=\"SP500 Mean\", increasing_line_color= 'cyan', decreasing_line_color= 'gray')\n",
    "\n",
    "fig = go.Figure(data=[stock_plot])\n",
    "\n",
    "# MA\n",
    "fig.add_trace(go.Scatter(x=sp500[\"date\"], y=sp500[\"ma\"], name=f\"MA {win_sz}\", opacity=0.7, line=dict(width=2, color=\"black\")))\n",
    "\n",
    "marker_size=10\n",
    "marker_border=1\n",
    "\n",
    "# BUY\n",
    "buy_mask = sp500[\"signal\"] == -1\n",
    "purchases = sp500.loc[buy_mask].copy().reset_index(drop=True)\n",
    "fig.add_trace(go.Scatter(\n",
    "    x=purchases[\"date\"], y=purchases[\"close\"], mode=\"markers\", name=\"buy\", \n",
    "    marker=dict(symbol=\"star-triangle-up\", size=marker_size, color='blue', line=dict(width=marker_border, color=\"DarkSlateGrey\"))))\n",
    "\n",
    "# SELL\n",
    "sales = sp500.loc[sp500[\"signal\"] == 1].copy().reset_index(drop=True)\n",
    "fig.add_trace(go.Scatter(\n",
    "    x=sales[\"date\"], y=sales[\"close\"], mode=\"markers\", name=\"sell\",\n",
    "    marker=dict(symbol=\"star-triangle-down\", size=marker_size,  color='green', line=dict(width=marker_border, color=\"DarkSlateGrey\"))))\n",
    "\n",
    "# MDD\n",
    "mdd = sp500[\"max_drawdown\"].min()\n",
    "mdd = mdd.round(4) * -100\n",
    "\n",
    "mdd_x = sp500.iloc[sp500[\"max_drawdown\"].idxmin()][\"date\"]\n",
    "mdd_y = sp500.iloc[sp500[\"max_drawdown\"].idxmin()][\"close\"]\n",
    "fig.add_annotation(x=mdd_x, y=mdd_y, text=f\"Max Drawdown {mdd}%\", font=dict(color=\"black\",size=20), arrowcolor=\"red\", arrowsize=3, arrowwidth=1, arrowhead=1, showarrow=True, xref=\"x\", yref=\"y\", ax=70, ay=240)\n",
    "\n",
    "\n",
    "fig.update_layout(legend=dict(x=0.01, y=0.97, font=dict( family=\"Courier\", size=16, color=\"black\" ), bgcolor=\"LightSteelBlue\", bordercolor=\"Black\", borderwidth=1))\n",
    "\n",
    "fig.update_layout(height=1200, plot_bgcolor='white')\n",
    "fig.update_xaxes(mirror=True, ticks='outside', showline=True, linecolor='black', gridcolor='lightgrey')\n",
    "fig.update_yaxes(mirror=True, ticks='outside', showline=True, linecolor='black', gridcolor='lightgrey')\n",
    "fig.update_layout(title={'text': \"S&P 500\", 'y':0.9, 'x':0.5, 'xanchor': 'center', 'yanchor': 'top',\n",
    "                         'font': {'color':\"black\", 'size': 33}, 'subtitle': { 'text': f\"ROI {roi}%\", 'font': {'color':\"gray\", 'size': 19}}})\n",
    "fig.show()b"
   ]
  },
  {
   "attachments": {},
   "cell_type": "markdown",
   "id": "eb124e03-c757-4cff-ade2-db3372be3537",
   "metadata": {},
   "source": [
    "---\n",
    "\n",
    "# Trading Performance Metrics\n",
    "\n",
    "#### 1. Max Drawdown (MDD)\n",
    "Max Drawdown (MDD) should be as minimal as possible.  \n",
    "MDD is a common metric for hedge funds and other trading shops to measure a trader's performance.   \n",
    "MDD measures the percentage difference from the historical peak to the forward minimum.   \n",
    "The plots below should elucidate the concept.  \n",
    "\n",
    "#### 2. Return on Investment Percent (ROI)\n",
    " We are searching for a trading strategy that maximizes ROI with minimal and reasonable risk. \n",
    "\n",
    "### Optimized Moving Average \n",
    "#### <i>buy</i> when price below moving average\n",
    "#### <i>sell</i> when price is above moving average\n",
    "We look the optimize the size of the sliding window that captures the markets appetite of the S&P500 equities. This is how we profit from temporary spikes and lulls before the stock regresses to the theoretical mean.\n",
    "\n",
    "### Trading Strategy Parameters (2)\n",
    "#### 1. Window Size \n",
    "The number of previous prices to use for the moving average\n",
    "#### 2. Performance Period\n",
    "The amount of time we will use to backtest the trade execution of the strategy.\n",
    "  \n",
    "For each strategy we have an overall period (performance period) for which we trade. A typical year in the US include 252 trading days after weekends and holidays.  We will also use a single day as a single \"tick\" or \"candle\" for trading strategies that involve buying or selling based on a trading signal."
   ]
  },
  {
   "cell_type": "code",
   "execution_count": 7,
   "id": "d650d54f-e706-427d-bed2-3ac84a355a48",
   "metadata": {},
   "outputs": [
    {
     "name": "stdout",
     "output_type": "stream",
     "text": [
      "4 performance periods\n",
      "20 windows sizes\n",
      "503 stock tickers\n",
      "36216 total backtests\n"
     ]
    }
   ],
   "source": [
    "import itertools as it \n",
    "import pandas as pd\n",
    "\n",
    "perf_periods = [int(252/4), int(252/2), 252, int(252*1.5)]\n",
    "window_sizes = list(range(5,101,5))\n",
    "\n",
    "perf_period_window_size_combos =  [{\"perf_period\":tpl[0], \"window_size\":tpl[1]} for tpl in it.product(perf_periods,window_sizes) if tpl[0] > tpl[1]]\n",
    "\n",
    "print(len(perf_periods), \"performance periods\")\n",
    "print(len(window_sizes), \"windows sizes\")\n",
    "\n",
    "df_orig = pd.read_csv(\"sp500_stocks.csv\", parse_dates=[\"Date\"])\n",
    "print(len(df_orig[\"Symbol\"].unique()), \"stock tickers\")\n",
    "print(len(perf_period_window_size_combos) * len(df_orig[\"Symbol\"].unique()), \"total backtests\")"
   ]
  },
  {
   "attachments": {},
   "cell_type": "markdown",
   "id": "e1593665-e0af-46a2-be2f-e98141072ff2",
   "metadata": {},
   "source": [
    "---\n",
    "\n",
    "# Vectorized Backtesting\n",
    "\n",
    "##### Various trading performance performance periods (perf_periods) and window sizes for backtesting.\n",
    "\n",
    "The following function \n",
    "* (1) Loads S&P500 data\n",
    "* (2) Calculates the Simple Moving Average (SMA)\n",
    "* (3) Generates Buy/Sell Signals from SMA\n",
    "* (4) Executes Trades using Signals\n",
    "* (5) Determines P&L\n",
    "* (6) Calculates the ROI & MDD"
   ]
  },
  {
   "cell_type": "code",
   "execution_count": 8,
   "id": "51c7c562-e1fc-43cb-a2dd-45fd7cb44b13",
   "metadata": {
    "editable": true,
    "slideshow": {
     "slide_type": ""
    },
    "tags": []
   },
   "outputs": [],
   "source": [
    "def vectorized_sma_backtests(perf_period, win_sz, ticker=None):\n",
    "\n",
    "    # (1) LOAD & TRANSFORM DATA\n",
    "    df_orig = pd.read_csv(\"sp500_stocks.csv\", parse_dates=[\"Date\"])\n",
    "\n",
    "    if ticker is not None:\n",
    "        df_orig = df_orig[df_orig[\"Symbol\"] == ticker]\n",
    "    df_orig = df_orig.dropna()\n",
    "    df_orig = df_orig[[\"Date\", \"Symbol\", \"Open\", \"Low\", \"High\", \"Close\"]]\n",
    "    df_orig.columns = list(map(str.lower,df_orig.columns))\n",
    "    df_orig = df_orig.sort_values([\"symbol\", \"date\"])\n",
    "    df_orig = df_orig.reset_index(drop=True)\n",
    "            \n",
    "    stock_dates = df_orig[\"date\"].unique()\n",
    "    stock_dates = stock_dates[stock_dates.argsort()][-perf_period:]\n",
    "\n",
    "    df = df_orig.copy()\n",
    "    df = df[df[\"date\"] >= stock_dates.min()].reset_index(drop=True)    \n",
    "\n",
    "    # (2) CALCULATE MOVING AVERAGE w/ WINDOW SIZE\n",
    "    df[\"ma\"] = df.groupby(\"symbol\")[\"close\"].rolling(window=win_sz, min_periods=0).mean().reset_index(0,drop=True)\n",
    "\n",
    "    # (3) GENERATE BUY & SELL SIGNALS\n",
    "    df[\"signal\"] =  ( (df[\"close\"] < df[\"ma\"]).astype(int)* -1 + (df[\"close\"] > df[\"ma\"]).astype(int)  ) \n",
    "    df[\"signal\"]  = (df[\"signal\"] != df[\"signal\"].shift(1)).astype(int) * df[\"signal\"]\n",
    "    df.loc[0, \"signal\"] = 0\n",
    "    \n",
    "    last_buy_price = df.loc[df[\"signal\"] == -1].copy()[\"close\"].rename(\"last_buy_price\")\n",
    "    df = df.merge(last_buy_price, left_index=True, right_index=True, how=\"left\").fillna(0)\n",
    "    df[\"last_buy_price\"] = df[\"last_buy_price\"].replace(0.0, np.nan).ffill().fillna(0)\n",
    "    \n",
    "    sell_mask = (df[\"signal\"] == 1) & (df[\"last_buy_price\"] > 0)\n",
    "\n",
    "    # (4) EXECUTE TRADES\n",
    "    df.loc[sell_mask, \"profit_pct_plus_1\"] = 1 + ( (df[\"close\"] - df[\"last_buy_price\"]) / df[\"last_buy_price\"] )\n",
    "    df[\"profit_pct_plus_1\"] = df[\"profit_pct_plus_1\"].fillna(1.0)\n",
    "\n",
    "    # (5) DETERMINE P&L\n",
    "    df[\"pct_cumprod\"] = df.groupby(\"symbol\")[\"profit_pct_plus_1\"].cumprod()\n",
    "    df[\"pct_cummax\"] = df.groupby(\"symbol\")[\"pct_cumprod\"].cummax()\n",
    "    \n",
    "    df[\"drawdown\"] = df[\"pct_cumprod\"] - df[\"pct_cummax\"]\n",
    "    df[\"max_drawdown\"] = df.groupby(\"symbol\")[\"drawdown\"].cummin()\n",
    "\n",
    "    # (6) CALCULATE ROI & MDD\n",
    "    roi =  df.groupby(\"symbol\")[\"pct_cumprod\"].last() - 1.0\n",
    "    mdd = df.groupby(\"symbol\")[\"max_drawdown\"].min()\n",
    "\n",
    "    result = dict(perf_period=perf_period, win_sz=win_sz, roi_min=roi.min(), roi_mean=roi.mean(), roi_max=roi.max(), mdd_min=mdd.min(), mdd_mean=mdd.mean())\n",
    "    return result, df"
   ]
  },
  {
   "cell_type": "markdown",
   "id": "470ff0b8-d1d4-4c37-b60f-625bc5fd8750",
   "metadata": {},
   "source": [
    "  "
   ]
  },
  {
   "cell_type": "markdown",
   "id": "c2eb648e-a02c-40ee-a9be-b56a53ce41b0",
   "metadata": {},
   "source": [
    "  "
   ]
  },
  {
   "cell_type": "markdown",
   "id": "8b2e0ee4-9974-428c-ab51-d755266adc45",
   "metadata": {},
   "source": [
    "  "
   ]
  },
  {
   "attachments": {},
   "cell_type": "markdown",
   "id": "82d7efee-332e-4013-a60b-bf9b58ba46be",
   "metadata": {},
   "source": [
    "---\n",
    "\n",
    "# The Entire Standard & Poors 500 - <i><u>NO RAPIDS</u></i> --> <span style=\"color:red\"><b> multiple minutes </b></span> to run backtests :(\n",
    "\n",
    "##### Backtest various Moving Averages for All Stocks in the S&P500\n",
    "##### +40K backtests "
   ]
  },
  {
   "cell_type": "code",
   "execution_count": 9,
   "id": "da544876-8b94-470b-9522-101bc623e20a",
   "metadata": {},
   "outputs": [
    {
     "name": "stdout",
     "output_type": "stream",
     "text": [
      "28\n"
     ]
    }
   ],
   "source": [
    "!nproc"
   ]
  },
  {
   "cell_type": "code",
   "execution_count": 10,
   "id": "745aab48-0022-4e29-8c9c-8e8e55d7a260",
   "metadata": {},
   "outputs": [
    {
     "name": "stdout",
     "output_type": "stream",
     "text": [
      "               total        used        free      shared  buff/cache   available\n",
      "Mem:            56Gi       1.3Gi        38Gi       2.0Mi        17Gi        55Gi\n",
      "Swap:             0B          0B          0B\n"
     ]
    }
   ],
   "source": [
    "!free -h"
   ]
  },
  {
   "cell_type": "code",
   "execution_count": 11,
   "id": "8acf47cb-6632-46de-bc0f-b1adc569ce36",
   "metadata": {},
   "outputs": [
    {
     "name": "stderr",
     "output_type": "stream",
     "text": [
      "pp: 378 win_sz: 100 : 100%|██████████| 72/72 [02:49<00:00,  2.36s/it]\n"
     ]
    }
   ],
   "source": [
    "from tqdm import tqdm\n",
    "import pandas as pd\n",
    "import numpy as np\n",
    "\n",
    "results_list = []\n",
    "progress = tqdm(perf_period_window_size_combos)\n",
    "for perf_period_window_size_combo in progress:    \n",
    "    perf_period = perf_period_window_size_combo[\"perf_period\"]\n",
    "    win_sz = perf_period_window_size_combo[\"window_size\"]\n",
    "    progress.set_description(f\"pp: {perf_period} win_sz: {win_sz} \")\n",
    "    \n",
    "    result, _ = vectorized_sma_backtests(perf_period=perf_period, win_sz=win_sz)\n",
    "    results_list.append(result)"
   ]
  },
  {
   "cell_type": "markdown",
   "id": "63e0e923-ce42-4bfe-96ba-b2680837b34c",
   "metadata": {},
   "source": [
    "### Nearly 3 Minutes"
   ]
  },
  {
   "cell_type": "markdown",
   "id": "f7ae7f3c-2330-49fd-aa07-2363e1b79016",
   "metadata": {},
   "source": [
    "  "
   ]
  },
  {
   "cell_type": "markdown",
   "id": "6b611ace-dac9-4372-ac5c-fcdf721e24bf",
   "metadata": {},
   "source": [
    "  "
   ]
  },
  {
   "cell_type": "markdown",
   "id": "f3e0c537-a311-46ae-a523-e5dfd307cc49",
   "metadata": {},
   "source": [
    "  "
   ]
  },
  {
   "attachments": {},
   "cell_type": "markdown",
   "id": "695db384-99fc-4dfd-af9b-74365686857a",
   "metadata": {},
   "source": [
    "---\n",
    "\n",
    "# [RAPIDS](https://developer.nvidia.com/rapids)\n",
    "##### Time is Money,  Accelerate Your Backtesting.\n",
    "We need high performace computing to test as many strategies as possible across as many equities as possible.  To that end, we will use RAPIDS to ensure constant testing of your strategies.\n",
    "Follow the RAPIDS Installation guide to install the correction version for your system:  \n",
    "https://docs.rapids.ai/install#selector\n",
    "\n",
    "![RAPIDS_selector](./RAPIDS_selector.png)"
   ]
  },
  {
   "attachments": {},
   "cell_type": "markdown",
   "id": "31a16d61-8c70-4ce8-b9a7-2094d46fff35",
   "metadata": {},
   "source": [
    "---\n",
    "\n",
    "# The Entire Standard & Poors 500 - <i><u>w/ RAPIDS<u/></i> --> <span style=\"color:green\"> <b> seconds </b></span> to run backtest :)\n",
    "\n",
    "##### Backtest various Moving Averages for All Stocks in the S&P500\n",
    "\n",
    "##### <b>RAPIDS</b> give us over <b>700%</b> boost in backtesting speed performance\n",
    "  \n",
    "  \n",
    "### No Code Changes Except loading cudf.pandas"
   ]
  },
  {
   "cell_type": "code",
   "execution_count": 12,
   "id": "2966491b-5324-43e1-bad4-f06a1c5dc0cf",
   "metadata": {},
   "outputs": [],
   "source": [
    "## load cudf.pandas kernel\n",
    "%load_ext cudf.pandas"
   ]
  },
  {
   "cell_type": "code",
   "execution_count": 14,
   "id": "e176a818-ef97-4ad7-a052-50fcd3af1464",
   "metadata": {},
   "outputs": [
    {
     "name": "stderr",
     "output_type": "stream",
     "text": [
      "pp: 378 win_sz: 100 : 100%|██████████| 72/72 [00:24<00:00,  2.96it/s]\n"
     ]
    }
   ],
   "source": [
    "from tqdm import tqdm\n",
    "import pandas as pd\n",
    "import numpy as np\n",
    "\n",
    "\n",
    "results_list = []\n",
    "progress = tqdm(perf_period_window_size_combos)\n",
    "for perf_period_window_size_combo in progress:    \n",
    "    perf_period = perf_period_window_size_combo[\"perf_period\"]\n",
    "    win_sz = perf_period_window_size_combo[\"window_size\"]\n",
    "    progress.set_description(f\"pp: {perf_period} win_sz: {win_sz} \")\n",
    "    \n",
    "    result, _ = vectorized_sma_backtests(perf_period=perf_period, win_sz=win_sz)\n",
    "    results_list.append(result)"
   ]
  },
  {
   "cell_type": "markdown",
   "id": "ce2f7aaf-57ce-452b-a786-fc8d7e4f1308",
   "metadata": {},
   "source": [
    "### 20 to 30 seconds"
   ]
  },
  {
   "cell_type": "code",
   "execution_count": 32,
   "id": "0973a588-a2e6-41c9-9045-b82f533f90fe",
   "metadata": {},
   "outputs": [
    {
     "data": {
      "text/plain": [
       "7.041666666666667"
      ]
     },
     "execution_count": 32,
     "metadata": {},
     "output_type": "execute_result"
    }
   ],
   "source": [
    "(120 + 49) / 24"
   ]
  },
  {
   "cell_type": "markdown",
   "id": "557c6d8f-34f2-4cbb-9637-c6220fdf7f70",
   "metadata": {},
   "source": [
    "### 700%+ Improvement"
   ]
  },
  {
   "cell_type": "markdown",
   "id": "445f9c9e-4a99-479e-a22b-7fe7740379cd",
   "metadata": {},
   "source": [
    "---\n",
    "\n",
    "# Trading Performance Analysis  "
   ]
  },
  {
   "cell_type": "markdown",
   "id": "82e4e82b-fcea-460b-87b5-9cc33664ac0d",
   "metadata": {},
   "source": [
    "### Plot Generator Function"
   ]
  },
  {
   "cell_type": "code",
   "execution_count": 20,
   "id": "8019bd0e-9e08-45cc-b967-0e75810796d7",
   "metadata": {},
   "outputs": [],
   "source": [
    "def pairwise(iterable):\n",
    "    # pairwise('ABCDEFG') → AB BC CD DE EF FG\n",
    "    iterator = iter(iterable)\n",
    "    a = next(iterator, None)\n",
    "    for b in iterator:\n",
    "        yield a, b\n",
    "        a = b"
   ]
  },
  {
   "cell_type": "code",
   "execution_count": 21,
   "id": "190a9ce1-28ef-4ec8-b381-4681537343b6",
   "metadata": {},
   "outputs": [],
   "source": [
    "def generate_mdd_roi_traces(results, perf_period_param):\n",
    "    results_summary = results.query(f\" perf_period == {perf_period_param} \")\n",
    "\n",
    "    x = results_summary[\"win_sz\"]\n",
    "    y = results_summary[\"roi_mean\"]*100\n",
    "    \n",
    "    x_pairs = pairwise(x)\n",
    "    y_pairs = pairwise(y)\n",
    "    roi_colors=['red' if any([i < roi_cutoff for i in y_values]) else '#1f77b4' for y_values in pairwise(y)]\n",
    "        \n",
    "    roi_trace = go.Scatter(x=results_summary[\"win_sz\"], y=results_summary[\"mdd_mean\"]*-100, \n",
    "                             name=\"MDD (redness ~ losses)\", fill='tozeroy', mode='none',\n",
    "                             fillgradient=dict(type=\"vertical\", colorscale=[(0.0, \"white\"),(0.95, \"red\"), (1.0, \"red\")], ))\n",
    "    \n",
    "    mdd_trace = go.Scatter(x=x, y=y,  showlegend=True, name=\"ROI\", mode='lines', opacity=0.7, line={'color': \"black\",  'width':4})\n",
    "    \n",
    "    # piecemeal ROI plot to show red for non-positive ROIs\n",
    "    piecemeal_traces = []\n",
    "    for x, y, color in zip(x_pairs, y_pairs, roi_colors):\n",
    "        piecemeal_traces.append(go.Scatter(x=x, y=y, showlegend=False, mode='lines', opacity=.6, line={'color': color,  'width':0.95}))\n",
    "    \n",
    "    return roi_trace, mdd_trace, piecemeal_traces"
   ]
  },
  {
   "cell_type": "markdown",
   "id": "ca5b1813-c623-4912-8dd5-17acf3be1497",
   "metadata": {},
   "source": [
    "### Tabular Results"
   ]
  },
  {
   "cell_type": "code",
   "execution_count": 22,
   "id": "3c87361e-b997-40f5-ab0c-609b0d9913f5",
   "metadata": {},
   "outputs": [
    {
     "data": {
      "text/html": [
       "<div>\n",
       "<style scoped>\n",
       "    .dataframe tbody tr th:only-of-type {\n",
       "        vertical-align: middle;\n",
       "    }\n",
       "\n",
       "    .dataframe tbody tr th {\n",
       "        vertical-align: top;\n",
       "    }\n",
       "\n",
       "    .dataframe thead th {\n",
       "        text-align: right;\n",
       "    }\n",
       "</style>\n",
       "<table border=\"1\" class=\"dataframe\">\n",
       "  <thead>\n",
       "    <tr style=\"text-align: right;\">\n",
       "      <th></th>\n",
       "      <th>perf_period</th>\n",
       "      <th>win_sz</th>\n",
       "      <th>roi_min</th>\n",
       "      <th>roi_mean</th>\n",
       "      <th>roi_max</th>\n",
       "      <th>mdd_min</th>\n",
       "      <th>mdd_mean</th>\n",
       "    </tr>\n",
       "  </thead>\n",
       "  <tbody>\n",
       "    <tr>\n",
       "      <th>53</th>\n",
       "      <td>378</td>\n",
       "      <td>10</td>\n",
       "      <td>-0.997096</td>\n",
       "      <td>1.142155</td>\n",
       "      <td>63.062714</td>\n",
       "      <td>-16.222246</td>\n",
       "      <td>-0.576481</td>\n",
       "    </tr>\n",
       "    <tr>\n",
       "      <th>57</th>\n",
       "      <td>378</td>\n",
       "      <td>30</td>\n",
       "      <td>-0.996892</td>\n",
       "      <td>1.185733</td>\n",
       "      <td>62.307560</td>\n",
       "      <td>-15.818044</td>\n",
       "      <td>-0.503630</td>\n",
       "    </tr>\n",
       "    <tr>\n",
       "      <th>55</th>\n",
       "      <td>378</td>\n",
       "      <td>20</td>\n",
       "      <td>-0.997043</td>\n",
       "      <td>1.215337</td>\n",
       "      <td>70.805449</td>\n",
       "      <td>-14.717758</td>\n",
       "      <td>-0.533444</td>\n",
       "    </tr>\n",
       "    <tr>\n",
       "      <th>56</th>\n",
       "      <td>378</td>\n",
       "      <td>25</td>\n",
       "      <td>-0.996940</td>\n",
       "      <td>1.208964</td>\n",
       "      <td>65.637189</td>\n",
       "      <td>-14.659468</td>\n",
       "      <td>-0.515434</td>\n",
       "    </tr>\n",
       "    <tr>\n",
       "      <th>58</th>\n",
       "      <td>378</td>\n",
       "      <td>35</td>\n",
       "      <td>-0.996781</td>\n",
       "      <td>1.159912</td>\n",
       "      <td>60.950255</td>\n",
       "      <td>-14.659412</td>\n",
       "      <td>-0.491891</td>\n",
       "    </tr>\n",
       "  </tbody>\n",
       "</table>\n",
       "</div>"
      ],
      "text/plain": [
       "    perf_period  win_sz   roi_min  roi_mean    roi_max    mdd_min  mdd_mean\n",
       "53          378      10 -0.997096  1.142155  63.062714 -16.222246 -0.576481\n",
       "57          378      30 -0.996892  1.185733  62.307560 -15.818044 -0.503630\n",
       "55          378      20 -0.997043  1.215337  70.805449 -14.717758 -0.533444\n",
       "56          378      25 -0.996940  1.208964  65.637189 -14.659468 -0.515434\n",
       "58          378      35 -0.996781  1.159912  60.950255 -14.659412 -0.491891"
      ]
     },
     "execution_count": 22,
     "metadata": {},
     "output_type": "execute_result"
    }
   ],
   "source": [
    "results = pd.DataFrame(results_list)\n",
    "results_summary = results.sort_values([\"mdd_min\", \"roi_mean\"], ascending=True)\n",
    "results_summary.head(5)"
   ]
  },
  {
   "cell_type": "markdown",
   "id": "76b3f949-1704-44ed-9bc1-44824f039678",
   "metadata": {},
   "source": [
    "### Visual Results"
   ]
  },
  {
   "cell_type": "code",
   "execution_count": 23,
   "id": "321da9b1-8a26-4ed3-a062-07e0b6e04c15",
   "metadata": {},
   "outputs": [
    {
     "data": {
      "text/html": [
       "<iframe\n",
       "    scrolling=\"no\"\n",
       "    width=\"100%\"\n",
       "    height=\"1020\"\n",
       "    src=\"iframe_figures/figure_23.html\"\n",
       "    frameborder=\"0\"\n",
       "    allowfullscreen\n",
       "></iframe>\n"
      ]
     },
     "metadata": {},
     "output_type": "display_data"
    }
   ],
   "source": [
    "from plotly.subplots import make_subplots\n",
    "\n",
    "roi_cutoff  = 0.10\n",
    "\n",
    "fig = make_subplots(rows=2, cols=2, shared_xaxes=False, shared_yaxes=True, \n",
    "                    vertical_spacing=0.15, \n",
    "                    subplot_titles=[f\"Perf Period = {pp}\" for pp in results.perf_period.unique()])\n",
    "\n",
    "for plot_idx, perf_period in enumerate(results.perf_period.unique()):    \n",
    "    roi_trace, mdd_trace, piecemeal_traces = generate_mdd_roi_traces(results=results, perf_period_param=perf_period)    \n",
    "    col = plot_idx % 2 + 1\n",
    "    row = int(plot_idx > 1) + 1       \n",
    "    fig.add_trace(roi_trace,  row=row, col=col)\n",
    "    fig.add_trace(mdd_trace,  row=row, col=col)\n",
    "    for piecemeal_trace in piecemeal_traces:\n",
    "        fig.add_trace(piecemeal_trace,  row=row, col=col)\n",
    "    fig.update_xaxes(title_text=\"window size\", row=row, col=col)\n",
    "    fig.update_yaxes(title_text=\"ROI% & MDD%\", row=row, col=col)\n",
    "\n",
    "\n",
    "fig.update_layout(showlegend=False, height=1000)\n",
    "fig.update_layout(plot_bgcolor='white')\n",
    "fig.update_xaxes(mirror=True, ticks='outside', showline=True, linecolor='black', gridcolor='lightgrey')\n",
    "fig.update_yaxes(mirror=True, ticks='outside', showline=True, linecolor='black', gridcolor='lightgrey')\n",
    "\n",
    "fig.show()"
   ]
  },
  {
   "cell_type": "markdown",
   "id": "e502edbb-0a7c-423f-9332-c24811d0dd91",
   "metadata": {},
   "source": [
    "---\n",
    "\n",
    "# Sample Stock using Backtesting Results\n",
    "Top company at time of writing is AAPL (Apple)"
   ]
  },
  {
   "cell_type": "code",
   "execution_count": 24,
   "id": "deeda847-ec98-411e-ac87-60de0ffaa683",
   "metadata": {},
   "outputs": [
    {
     "data": {
      "text/html": [
       "<div>\n",
       "<style scoped>\n",
       "    .dataframe tbody tr th:only-of-type {\n",
       "        vertical-align: middle;\n",
       "    }\n",
       "\n",
       "    .dataframe tbody tr th {\n",
       "        vertical-align: top;\n",
       "    }\n",
       "\n",
       "    .dataframe thead th {\n",
       "        text-align: right;\n",
       "    }\n",
       "</style>\n",
       "<table border=\"1\" class=\"dataframe\">\n",
       "  <thead>\n",
       "    <tr style=\"text-align: right;\">\n",
       "      <th></th>\n",
       "      <th>Exchange</th>\n",
       "      <th>Symbol</th>\n",
       "      <th>Shortname</th>\n",
       "      <th>Longname</th>\n",
       "      <th>Sector</th>\n",
       "      <th>Industry</th>\n",
       "      <th>Currentprice</th>\n",
       "      <th>Marketcap</th>\n",
       "      <th>Ebitda</th>\n",
       "      <th>Revenuegrowth</th>\n",
       "      <th>City</th>\n",
       "      <th>State</th>\n",
       "      <th>Country</th>\n",
       "      <th>Fulltimeemployees</th>\n",
       "      <th>Longbusinesssummary</th>\n",
       "      <th>Weight</th>\n",
       "    </tr>\n",
       "  </thead>\n",
       "  <tbody>\n",
       "    <tr>\n",
       "      <th>0</th>\n",
       "      <td>NMS</td>\n",
       "      <td>AAPL</td>\n",
       "      <td>Apple Inc.</td>\n",
       "      <td>Apple Inc.</td>\n",
       "      <td>Technology</td>\n",
       "      <td>Consumer Electronics</td>\n",
       "      <td>222.5</td>\n",
       "      <td>3382912221184</td>\n",
       "      <td>131781001216</td>\n",
       "      <td>0.049</td>\n",
       "      <td>Cupertino</td>\n",
       "      <td>CA</td>\n",
       "      <td>United States</td>\n",
       "      <td>161000</td>\n",
       "      <td>Apple Inc. designs, manufactures, and markets ...</td>\n",
       "      <td>0.064793</td>\n",
       "    </tr>\n",
       "  </tbody>\n",
       "</table>\n",
       "</div>"
      ],
      "text/plain": [
       "  Exchange Symbol   Shortname    Longname      Sector              Industry  \\\n",
       "0      NMS   AAPL  Apple Inc.  Apple Inc.  Technology  Consumer Electronics   \n",
       "\n",
       "   Currentprice      Marketcap        Ebitda  Revenuegrowth       City State  \\\n",
       "0         222.5  3382912221184  131781001216          0.049  Cupertino    CA   \n",
       "\n",
       "         Country  Fulltimeemployees  \\\n",
       "0  United States             161000   \n",
       "\n",
       "                                 Longbusinesssummary    Weight  \n",
       "0  Apple Inc. designs, manufactures, and markets ...  0.064793  "
      ]
     },
     "execution_count": 24,
     "metadata": {},
     "output_type": "execute_result"
    }
   ],
   "source": [
    "pd.read_csv(\"sp500_companies.csv\").sort_values(\"Marketcap\", ascending=False).head(1)"
   ]
  },
  {
   "cell_type": "markdown",
   "id": "37e2cca3-95c8-433c-9a02-b705a39b272a",
   "metadata": {},
   "source": [
    "### AAPL Sample Data"
   ]
  },
  {
   "cell_type": "code",
   "execution_count": 26,
   "id": "0406acb8-b18a-4f20-a9d6-b14a2d7109a1",
   "metadata": {},
   "outputs": [
    {
     "data": {
      "text/html": [
       "<div>\n",
       "<style scoped>\n",
       "    .dataframe tbody tr th:only-of-type {\n",
       "        vertical-align: middle;\n",
       "    }\n",
       "\n",
       "    .dataframe tbody tr th {\n",
       "        vertical-align: top;\n",
       "    }\n",
       "\n",
       "    .dataframe thead th {\n",
       "        text-align: right;\n",
       "    }\n",
       "</style>\n",
       "<table border=\"1\" class=\"dataframe\">\n",
       "  <thead>\n",
       "    <tr style=\"text-align: right;\">\n",
       "      <th></th>\n",
       "      <th>Date</th>\n",
       "      <th>Symbol</th>\n",
       "      <th>Adj Close</th>\n",
       "      <th>Close</th>\n",
       "      <th>High</th>\n",
       "      <th>Low</th>\n",
       "      <th>Open</th>\n",
       "      <th>Volume</th>\n",
       "    </tr>\n",
       "  </thead>\n",
       "  <tbody>\n",
       "    <tr>\n",
       "      <th>147957</th>\n",
       "      <td>2024-09-11</td>\n",
       "      <td>AAPL</td>\n",
       "      <td>222.66</td>\n",
       "      <td>222.66</td>\n",
       "      <td>223.09</td>\n",
       "      <td>217.89</td>\n",
       "      <td>221.46</td>\n",
       "      <td>44587100.0</td>\n",
       "    </tr>\n",
       "    <tr>\n",
       "      <th>147958</th>\n",
       "      <td>2024-09-12</td>\n",
       "      <td>AAPL</td>\n",
       "      <td>222.77</td>\n",
       "      <td>222.77</td>\n",
       "      <td>223.55</td>\n",
       "      <td>219.82</td>\n",
       "      <td>222.50</td>\n",
       "      <td>37498200.0</td>\n",
       "    </tr>\n",
       "    <tr>\n",
       "      <th>147959</th>\n",
       "      <td>2024-09-13</td>\n",
       "      <td>AAPL</td>\n",
       "      <td>222.50</td>\n",
       "      <td>222.50</td>\n",
       "      <td>224.04</td>\n",
       "      <td>221.91</td>\n",
       "      <td>223.58</td>\n",
       "      <td>36722900.0</td>\n",
       "    </tr>\n",
       "  </tbody>\n",
       "</table>\n",
       "</div>"
      ],
      "text/plain": [
       "              Date Symbol  Adj Close   Close    High     Low    Open  \\\n",
       "147957  2024-09-11   AAPL     222.66  222.66  223.09  217.89  221.46   \n",
       "147958  2024-09-12   AAPL     222.77  222.77  223.55  219.82  222.50   \n",
       "147959  2024-09-13   AAPL     222.50  222.50  224.04  221.91  223.58   \n",
       "\n",
       "            Volume  \n",
       "147957  44587100.0  \n",
       "147958  37498200.0  \n",
       "147959  36722900.0  "
      ]
     },
     "execution_count": 26,
     "metadata": {},
     "output_type": "execute_result"
    }
   ],
   "source": [
    "df = pd.read_csv(\"sp500_stocks.csv\")\n",
    "aapl = df.query(\"Symbol == 'AAPL' \")\n",
    "del df\n",
    "aapl.tail(3).round(2)"
   ]
  },
  {
   "cell_type": "markdown",
   "id": "96d29b97-bf0f-49bc-922c-83a5f88bbf27",
   "metadata": {},
   "source": [
    "### Backtest AAPL with various Moving Averages"
   ]
  },
  {
   "cell_type": "code",
   "execution_count": 27,
   "id": "b49b91fd-c512-4c75-964e-d76b66d79010",
   "metadata": {},
   "outputs": [
    {
     "name": "stderr",
     "output_type": "stream",
     "text": [
      "pp: 378 win_sz: 100 : 100%|██████████| 72/72 [00:12<00:00,  5.87it/s]\n"
     ]
    }
   ],
   "source": [
    "from tqdm import tqdm\n",
    "aapl_results_list = []\n",
    "progress = tqdm(perf_period_window_size_combos)\n",
    "\n",
    "for perf_period_window_size_combo in progress:\n",
    "    \n",
    "    perf_period = perf_period_window_size_combo[\"perf_period\"]\n",
    "    win_sz = perf_period_window_size_combo[\"window_size\"]\n",
    "    progress.set_description(f\"pp: {perf_period} win_sz: {win_sz} \")\n",
    "    \n",
    "    result, _ = vectorized_sma_backtests(perf_period=perf_period, win_sz=win_sz, ticker='AAPL')\n",
    "    aapl_results_list.append(result)"
   ]
  },
  {
   "cell_type": "markdown",
   "id": "3e092b8f-963f-4bb1-8c6d-41233db7c758",
   "metadata": {},
   "source": [
    "### Tabular Backtesting Results"
   ]
  },
  {
   "cell_type": "code",
   "execution_count": 28,
   "id": "83eb1f86-ba71-4c80-8502-8e3b453db874",
   "metadata": {},
   "outputs": [
    {
     "data": {
      "text/html": [
       "<div>\n",
       "<style scoped>\n",
       "    .dataframe tbody tr th:only-of-type {\n",
       "        vertical-align: middle;\n",
       "    }\n",
       "\n",
       "    .dataframe tbody tr th {\n",
       "        vertical-align: top;\n",
       "    }\n",
       "\n",
       "    .dataframe thead th {\n",
       "        text-align: right;\n",
       "    }\n",
       "</style>\n",
       "<table border=\"1\" class=\"dataframe\">\n",
       "  <thead>\n",
       "    <tr style=\"text-align: right;\">\n",
       "      <th></th>\n",
       "      <th>perf_period</th>\n",
       "      <th>win_sz</th>\n",
       "      <th>roi_min</th>\n",
       "      <th>roi_mean</th>\n",
       "      <th>roi_max</th>\n",
       "      <th>mdd_min</th>\n",
       "      <th>mdd_mean</th>\n",
       "    </tr>\n",
       "  </thead>\n",
       "  <tbody>\n",
       "    <tr>\n",
       "      <th>17</th>\n",
       "      <td>126</td>\n",
       "      <td>30</td>\n",
       "      <td>0.140590</td>\n",
       "      <td>0.140590</td>\n",
       "      <td>0.140590</td>\n",
       "      <td>0.0</td>\n",
       "      <td>0.0</td>\n",
       "    </tr>\n",
       "    <tr>\n",
       "      <th>20</th>\n",
       "      <td>126</td>\n",
       "      <td>45</td>\n",
       "      <td>0.135784</td>\n",
       "      <td>0.135784</td>\n",
       "      <td>0.135784</td>\n",
       "      <td>0.0</td>\n",
       "      <td>0.0</td>\n",
       "    </tr>\n",
       "    <tr>\n",
       "      <th>18</th>\n",
       "      <td>126</td>\n",
       "      <td>35</td>\n",
       "      <td>0.124623</td>\n",
       "      <td>0.124623</td>\n",
       "      <td>0.124623</td>\n",
       "      <td>0.0</td>\n",
       "      <td>0.0</td>\n",
       "    </tr>\n",
       "  </tbody>\n",
       "</table>\n",
       "</div>"
      ],
      "text/plain": [
       "    perf_period  win_sz   roi_min  roi_mean   roi_max  mdd_min  mdd_mean\n",
       "17          126      30  0.140590  0.140590  0.140590      0.0       0.0\n",
       "20          126      45  0.135784  0.135784  0.135784      0.0       0.0\n",
       "18          126      35  0.124623  0.124623  0.124623      0.0       0.0"
      ]
     },
     "execution_count": 28,
     "metadata": {},
     "output_type": "execute_result"
    }
   ],
   "source": [
    "aapl_results = pd.DataFrame(aapl_results_list)\n",
    "aapl_results.sort_values([\"mdd_min\", \"roi_max\"], ascending=[False, False]).head(3)"
   ]
  },
  {
   "cell_type": "markdown",
   "id": "f700c6a3-bbe8-49b3-983d-4707847d1243",
   "metadata": {},
   "source": [
    "### Visual Backtesting Results"
   ]
  },
  {
   "cell_type": "code",
   "execution_count": 29,
   "id": "9fd6f608-7e12-454c-a9b9-d32d902b2c5f",
   "metadata": {},
   "outputs": [
    {
     "data": {
      "text/html": [
       "<iframe\n",
       "    scrolling=\"no\"\n",
       "    width=\"100%\"\n",
       "    height=\"1020\"\n",
       "    src=\"iframe_figures/figure_29.html\"\n",
       "    frameborder=\"0\"\n",
       "    allowfullscreen\n",
       "></iframe>\n"
      ]
     },
     "metadata": {},
     "output_type": "display_data"
    }
   ],
   "source": [
    "fig = make_subplots(rows=2, cols=2, shared_xaxes=False, shared_yaxes=True, \n",
    "                    vertical_spacing=0.15, subplot_titles=[f\"Perf Period = {pp}\" for pp in aapl_results.perf_period.unique()])\n",
    "\n",
    "for plot_idx, perf_period in enumerate(aapl_results.perf_period.unique()):    \n",
    "    roi_trace, mdd_trace, piecemeal_traces = generate_mdd_roi_traces(results=aapl_results, perf_period_param=perf_period)    \n",
    "    col = plot_idx % 2 + 1\n",
    "    row = int(plot_idx > 1) + 1       \n",
    "    fig.add_trace(roi_trace,  row=row, col=col)\n",
    "    fig.add_trace(mdd_trace,  row=row, col=col)\n",
    "    for piecemeal_trace in piecemeal_traces:\n",
    "        fig.add_trace(piecemeal_trace,  row=row, col=col)\n",
    "    fig.update_xaxes(title_text=\"window size\", row=row, col=col)\n",
    "    fig.update_yaxes(title_text=\"ROI% & MDD%\", row=row, col=col)\n",
    "\n",
    "fig.update_layout(showlegend=False, height=1000)\n",
    "fig.update_layout(plot_bgcolor='white')\n",
    "fig.update_xaxes(mirror=True, ticks='outside', showline=True, linecolor='black', gridcolor='lightgrey')\n",
    "fig.update_yaxes(mirror=True, ticks='outside', showline=True, linecolor='black', gridcolor='lightgrey')\n",
    "\n",
    "fig.show()"
   ]
  },
  {
   "cell_type": "markdown",
   "id": "8c79c5a8-34df-46cf-a629-13c176b2512c",
   "metadata": {},
   "source": [
    "### Trade Execution with Best Parameters"
   ]
  },
  {
   "cell_type": "code",
   "execution_count": 30,
   "id": "b7c86faf-f6bf-4ca2-908d-1bf690742183",
   "metadata": {},
   "outputs": [
    {
     "name": "stdout",
     "output_type": "stream",
     "text": [
      "{'perf_period': 126, 'win_sz': 30}\n"
     ]
    },
    {
     "data": {
      "text/html": [
       "<iframe\n",
       "    scrolling=\"no\"\n",
       "    width=\"100%\"\n",
       "    height=\"920\"\n",
       "    src=\"iframe_figures/figure_30.html\"\n",
       "    frameborder=\"0\"\n",
       "    allowfullscreen\n",
       "></iframe>\n"
      ]
     },
     "metadata": {},
     "output_type": "display_data"
    }
   ],
   "source": [
    "perf_period_window_size_combo = aapl_results.sort_values([\"mdd_min\", \"roi_max\"], ascending=[False, False]).head(1)[[\"perf_period\", \"win_sz\"]].to_dict(\"records\")[0]\n",
    "print(perf_period_window_size_combo)\n",
    "\n",
    "perf_period=perf_period_window_size_combo[\"perf_period\"]\n",
    "win_sz=perf_period_window_size_combo[\"win_sz\"]\n",
    "\n",
    "marker_size = 10\n",
    "marker_border = 1.0\n",
    "\n",
    "result, df = vectorized_sma_backtests(perf_period=perf_period, win_sz=win_sz, ticker=\"AAPL\")\n",
    "\n",
    "stock_plot = go.Ohlc(x=df['date'], open=df['open'], high=df['high'], low=df['low'], close=df['close'], name=\"AAPL\", increasing_line_color= 'cyan', decreasing_line_color= 'gray')\n",
    "\n",
    "fig = go.Figure(data=[stock_plot])\n",
    "\n",
    "# MA\n",
    "fig.add_trace(go.Scatter(x=df[\"date\"], y=df[\"ma\"], name=f\"MA {win_sz}\", opacity=0.3, line=dict(width=2, color=\"blue\")))\n",
    "\n",
    "# BUY\n",
    "buy_mask = df[\"signal\"] == -1\n",
    "purchases = df.loc[buy_mask].copy().reset_index(drop=True)\n",
    "fig.add_trace(go.Scatter(\n",
    "    x=purchases[\"date\"], y=purchases[\"close\"], mode=\"markers\", name=\"buy\", \n",
    "    marker=dict(symbol=\"star-triangle-up\", size=marker_size, color='blue', line=dict(width=marker_border, color=\"DarkSlateGrey\"))))\n",
    "\n",
    "# SELL\n",
    "sales = df.loc[df[\"signal\"] == 1].copy().reset_index(drop=True)\n",
    "fig.add_trace(go.Scatter(\n",
    "    x=sales[\"date\"], y=sales[\"close\"], mode=\"markers\", name=\"sell\",\n",
    "    marker=dict(symbol=\"star-triangle-down\", size=marker_size,  color='green', line=dict(width=marker_border, color=\"DarkSlateGrey\"))))\n",
    "\n",
    "\n",
    "fig.update_layout(legend=dict(x=0.01, y=0.97, font=dict( family=\"Courier\", size=16, color=\"black\" ), bgcolor=\"LightSteelBlue\", bordercolor=\"Black\", borderwidth=1))\n",
    "\n",
    "fig.update_layout(height=900)\n",
    "fig.update_layout(plot_bgcolor='white')\n",
    "fig.update_xaxes(mirror=True, ticks='outside', showline=True, linecolor='black', gridcolor='lightgrey')\n",
    "fig.update_yaxes(mirror=True, ticks='outside', showline=True, linecolor='black', gridcolor='lightgrey')\n",
    "\n",
    "roi = df.iloc[-1][\"pct_cumprod\"] - 1\n",
    "roi = roi.round(4) * 100\n",
    "\n",
    "fig.update_layout(title={'text': \"AAPL\", 'y':0.85, 'x':0.5, 'xanchor': 'center', 'yanchor': 'top',\n",
    "                         'font': {'color':\"black\", 'size': 33}, 'subtitle': { 'text': f\"ROI {roi}%\", 'font': {'color':\"gray\", 'size': 19}}})\n",
    "fig.show()"
   ]
  },
  {
   "cell_type": "code",
   "execution_count": null,
   "id": "905a2027-e4de-43c9-b63f-36ab9abab2ff",
   "metadata": {},
   "outputs": [],
   "source": []
  }
 ],
 "metadata": {
  "kernelspec": {
   "display_name": "Python 3 (ipykernel)",
   "language": "python",
   "name": "python3"
  },
  "language_info": {
   "codemirror_mode": {
    "name": "ipython",
    "version": 3
   },
   "file_extension": ".py",
   "mimetype": "text/x-python",
   "name": "python",
   "nbconvert_exporter": "python",
   "pygments_lexer": "ipython3",
   "version": "3.9.19"
  }
 },
 "nbformat": 4,
 "nbformat_minor": 5
}
